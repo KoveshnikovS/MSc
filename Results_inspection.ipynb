{
 "cells": [
  {
   "cell_type": "markdown",
   "metadata": {},
   "source": [
    "Results of ML models\n",
    "---\n",
    "\n",
    "This notebook helps to inspect the erroneous predictions from the models, visualizing them with bar plots. First, run the whole experiment with required parameteres. Then you can use the notebook just running all cells. If you still don't have keras or scikit-learn model saved in the /Models folder, it will output an error. In this case, run just the needed part with scikit or TensorFlow model."
   ]
  },
  {
   "cell_type": "markdown",
   "metadata": {},
   "source": [
    "Libraries import"
   ]
  },
  {
   "cell_type": "code",
   "execution_count": null,
   "metadata": {},
   "outputs": [],
   "source": [
    "import pandas as pd\n",
    "import numpy as np\n",
    "import matplotlib.pyplot as plt\n",
    "from tensorflow import keras\n",
    "import seaborn as sns\n",
    "import joblib"
   ]
  },
  {
   "cell_type": "markdown",
   "metadata": {},
   "source": [
    "Data import"
   ]
  },
  {
   "cell_type": "code",
   "execution_count": null,
   "metadata": {},
   "outputs": [],
   "source": [
    "X_test=pd.read_csv('./Data/processed/X_test.csv')\n",
    "y_test=pd.read_csv('./Data/processed/y_test.csv')\n",
    "loading_level_test=pd.read_csv('./Data/processed/load_test.csv')\n",
    "X_train=pd.read_csv('./Data/processed/X_train.csv')\n",
    "y_train=pd.read_csv('./Data/processed/y_train.csv')\n",
    "loading_level_train=pd.read_csv('./Data/processed/load_train.csv')"
   ]
  },
  {
   "cell_type": "markdown",
   "metadata": {},
   "source": [
    "### TensorFlow model (MLP)"
   ]
  },
  {
   "cell_type": "code",
   "execution_count": null,
   "metadata": {},
   "outputs": [],
   "source": [
    "mlp_model=keras.models.load_model('Models/DLmodel.keras')\n",
    "mlp_model.evaluate(X_test,y_test)"
   ]
  },
  {
   "cell_type": "code",
   "execution_count": null,
   "metadata": {},
   "outputs": [],
   "source": [
    "mlp_y_hat=mlp_model.predict(X_test)\n",
    "mlp_predictions=pd.DataFrame(np.argmax(mlp_y_hat,axis=1),columns=['y_hat'])"
   ]
  },
  {
   "cell_type": "code",
   "execution_count": null,
   "metadata": {},
   "outputs": [],
   "source": [
    "mlp_results_df=pd.concat([loading_level_test,y_test,mlp_predictions],axis=1)"
   ]
  },
  {
   "cell_type": "code",
   "execution_count": null,
   "metadata": {},
   "outputs": [],
   "source": [
    "error_mlp=mlp_results_df[mlp_results_df['Label'] !=  mlp_results_df['y_hat']]\n",
    "error_mlp"
   ]
  },
  {
   "cell_type": "code",
   "execution_count": null,
   "metadata": {},
   "outputs": [],
   "source": [
    "sns.countplot(data=error_mlp,x='Loading',hue='Label')\n",
    "plt.title('Erroneous predictions in test set')\n",
    "plt.legend(title='True labels')"
   ]
  },
  {
   "cell_type": "markdown",
   "metadata": {},
   "source": [
    "### Scikit model (SVM and GBM)"
   ]
  },
  {
   "cell_type": "code",
   "execution_count": null,
   "metadata": {},
   "outputs": [],
   "source": [
    "sci_model = joblib.load('./Models/model.joblib')\n",
    "sci_y_hat = sci_model.predict(X_test)\n",
    "sci_pred_proba=sci_model.predict_proba(X_test)"
   ]
  },
  {
   "cell_type": "code",
   "execution_count": null,
   "metadata": {},
   "outputs": [],
   "source": [
    "sci_results_df=pd.concat([loading_level_test,\n",
    "                          y_test,\n",
    "                          pd.DataFrame(np.ravel(sci_y_hat),columns=['y_hat'])],axis=1)\n",
    "error_sci=sci_results_df[sci_results_df['Label'] !=sci_results_df['y_hat']]"
   ]
  },
  {
   "cell_type": "code",
   "execution_count": null,
   "metadata": {},
   "outputs": [],
   "source": [
    "sns.countplot(data=error_sci,x='Loading',hue='Label')\n",
    "plt.title('Erroneous predictions in test set')\n",
    "plt.legend(title='True labels',loc=1,bbox_to_anchor=(0., 1.02, 1.2, 0),)"
   ]
  }
 ],
 "metadata": {
  "kernelspec": {
   "display_name": "MSc",
   "language": "python",
   "name": "python3"
  },
  "language_info": {
   "codemirror_mode": {
    "name": "ipython",
    "version": 3
   },
   "file_extension": ".py",
   "mimetype": "text/x-python",
   "name": "python",
   "nbconvert_exporter": "python",
   "pygments_lexer": "ipython3",
   "version": "3.10.6"
  }
 },
 "nbformat": 4,
 "nbformat_minor": 2
}
